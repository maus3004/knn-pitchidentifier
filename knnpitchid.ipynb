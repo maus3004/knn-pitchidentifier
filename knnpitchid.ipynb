{
 "cells": [
  {
   "cell_type": "code",
   "execution_count": 37,
   "metadata": {},
   "outputs": [],
   "source": [
    "import pandas as pd\n",
    "import numpy as np\n",
    "import matplotlib.pyplot as plt\n",
    "import pybaseball as pyb\n",
    "import sklearn as scikit_learn "
   ]
  },
  {
   "cell_type": "code",
   "execution_count": 12,
   "metadata": {},
   "outputs": [
    {
     "name": "stdout",
     "output_type": "stream",
     "text": [
      "665833\n"
     ]
    }
   ],
   "source": [
    "# look up a player's id with text input\n",
    "\n",
    "name = input()\n",
    "name_split = name.split(\" \")\n",
    "first, last = name_split[0], name_split[1]\n",
    "\n",
    "x = pyb.playerid_lookup(last, first)\n",
    "print(x['key_mlbam'][0])"
   ]
  },
  {
   "cell_type": "code",
   "execution_count": null,
   "metadata": {},
   "outputs": [],
   "source": [
    "data = pyb.statcast_pitcher('2024-04-10', '2024-08-19', player_id= 506433)\n",
    "print(data.columns)"
   ]
  },
  {
   "cell_type": "code",
   "execution_count": 9,
   "metadata": {},
   "outputs": [],
   "source": [
    "data = pyb.statcast_single_game(529429)\n",
    "data.to_csv('test')"
   ]
  },
  {
   "cell_type": "code",
   "execution_count": 44,
   "metadata": {},
   "outputs": [
    {
     "name": "stdout",
     "output_type": "stream",
     "text": [
      "This is a large query, it may take a moment to complete\n"
     ]
    },
    {
     "name": "stderr",
     "output_type": "stream",
     "text": [
      "100%|██████████| 2/2 [00:00<00:00,  2.71it/s]\n"
     ]
    },
    {
     "data": {
      "text/plain": [
       "(6363, 7)"
      ]
     },
     "execution_count": 44,
     "metadata": {},
     "output_type": "execute_result"
    }
   ],
   "source": [
    "# importing model and cleaning\n",
    "\n",
    "data = pyb.statcast('2024-03-28', '2024-03-29')\n",
    "# release_speed, pfx_x, pfx_z, release_spin_rate\n",
    "# pitch_name, spin_axis (affected by p_throws)\n",
    "\n",
    "# return pitch_name\n",
    "\n",
    "# cleaning up data\n",
    "pitch_parameters = [\n",
    "    'pitch_name', \n",
    "    'release_speed', \n",
    "    'pfx_x', 'pfx_z', \n",
    "    'release_spin_rate', \n",
    "    'spin_axis', \n",
    "    'p_throws'\n",
    "]\n",
    "\n",
    "data = data[pitch_parameters]\n",
    "\n",
    "# cleaning up pitch_name \n",
    "excluded_values = [\n",
    "    'Pitch Out', \n",
    "    'Other', \n",
    "    'Eephus', \n",
    "    'Slurve'\n",
    "]\n",
    "data = data[~data['pitch_name'].isin(excluded_values)]\n",
    "\n",
    "# removing na values in pitch_name\n",
    "data.dropna(subset=['pitch_name'], inplace=True)\n",
    "data = data.dropna()\n",
    "\n",
    "# converting movement to inches\n",
    "data['pfx_x'] = data['pfx_x'] * 12\n",
    "data['pfx_z'] = data['pfx_z'] * 12 \n",
    "\n",
    "data.shape"
   ]
  },
  {
   "cell_type": "code",
   "execution_count": 49,
   "metadata": {},
   "outputs": [
    {
     "data": {
      "image/png": "[encoded data removed]",
      "text/plain": [
       "<Figure size 640x480 with 1 Axes>"
      ]
     },
     "metadata": {},
     "output_type": "display_data"
    }
   ],
   "source": [
    "# KNN \n",
    "from sklearn.model_selection import train_test_split\n",
    "from sklearn.neighbors import KNeighborsClassifier\n",
    "\n",
    "\n",
    "# changing p_throws to a numerical value by mapping and replacing\n",
    "pitching_hand = {'R':0, 'L':1}\n",
    "data['p_throws'] = data['p_throws'].replace(pitching_hand)\n",
    "\n",
    "# apparently good practice to check data types \n",
    "# data.dtypes\n",
    "\n",
    "# splitting data    \n",
    "x_data_split = [\n",
    "    'release_speed', \n",
    "    'pfx_x', 'pfx_z', \n",
    "    'release_spin_rate', \n",
    "    #'spin_axis', \n",
    "    #'p_throws'\n",
    "]\n",
    "\n",
    "X = data[x_data_split]\n",
    "y = data['pitch_name']\n",
    "X_train, X_test, y_train, y_test = train_test_split(X, y, test_size=0.3, random_state=42)\n",
    "\n",
    "# training the model\n",
    "K, training, test, scores = [], [], [], {}\n",
    "\n",
    "for k in range(2, 75):\n",
    "    clf = KNeighborsClassifier(n_neighbors=k)\n",
    "    clf.fit(X_train, y_train)\n",
    "\n",
    "    training_score = clf.score(X_train, y_train)\n",
    "    test_score = clf.score(X_test, y_test)\n",
    "\n",
    "    K.append(k)\n",
    "    training.append(training_score)\n",
    "    test.append(test_score)\n",
    "    scores[k] = [training_score, test_score]\n",
    "\n",
    "plt.scatter(K, training, c='blue')\n",
    "plt.scatter(K, test, c='red')\n",
    "plt.show()"
   ]
  },
  {
   "cell_type": "code",
   "execution_count": null,
   "metadata": {},
   "outputs": [],
   "source": [
    "# Decision Tree"
   ]
  }
 ],
 "metadata": {
  "kernelspec": {
   "display_name": "Python 3.10.9 64-bit",
   "language": "python",
   "name": "python3"
  },
  "language_info": {
   "codemirror_mode": {
    "name": "ipython",
    "version": 3
   },
   "file_extension": ".py",
   "mimetype": "text/x-python",
   "name": "python",
   "nbconvert_exporter": "python",
   "pygments_lexer": "ipython3",
   "version": "3.10.9"
  },
  "orig_nbformat": 4,
  "vscode": {
   "interpreter": {
    "hash": "b0fa6594d8f4cbf19f97940f81e996739fb7646882a419484c72d19e05852a7e"
   }
  }
 },
 "nbformat": 4,
 "nbformat_minor": 2
}
