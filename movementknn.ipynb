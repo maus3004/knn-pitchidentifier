{
 "cells": [
  {
   "cell_type": "code",
   "execution_count": 47,
   "metadata": {},
   "outputs": [],
   "source": [
    "import pandas as pd\n",
    "import numpy as np\n",
    "import matplotlib.pyplot as plt\n",
    "import pybaseball as pyb\n",
    "import sklearn as scikit_learn "
   ]
  },
  {
   "cell_type": "code",
   "execution_count": 48,
   "metadata": {},
   "outputs": [],
   "source": [
    "# mapping pitch types to color\n",
    "\n",
    "pitch_colors = {\n",
    "    '4-Seam Fastball':'blue',\n",
    "\n",
    "    'Sinker':'gray',\n",
    "    \n",
    "    'Changeup':'orange',\n",
    "    \n",
    "    'Curveball':'yellow',\n",
    "    'Knuckle Curve':'yellow',\n",
    "    \n",
    "    'Slurve':'red',\n",
    "    \n",
    "    'Slider':'green',\n",
    "    'Sweeper':'green',\n",
    "    \n",
    "    'Cutter':'purple',\n",
    "\n",
    "    'Split-Finger':'pink',\n",
    "    'Forkball':'pink',\n",
    "}\n",
    "# ['Changeup' 'Curveball' 'Sinker' '4-Seam Fastball' 'Slider' 'Cutter'\n",
    "# 'Sweeper' 'Knuckle Curve' 'Split-Finger' 'Other' 'Eephus' 'Slurve'\n",
    "# 'Pitch Out' 'Forkball' nan]"
   ]
  },
  {
   "cell_type": "code",
   "execution_count": null,
   "metadata": {},
   "outputs": [],
   "source": [
    "# KNN Model using only movement\n",
    "\n",
    "data = pyb.statcast('2024-03-28', '2024-03-30')\n",
    "\n",
    "data['pfx_x'], data['pfx_z'] = data['pfx_x'] * 12, data['pfx_z'] * 12\n",
    "\n",
    "# filtering out pitching arm because i'm too lazy to figure out how to flip arm-side movement\n",
    "data = data[data['p_throws'] == 'L']\n",
    "# also filtering out some pitch types\n",
    "excluded_values = ['Pitch Out', 'Other', 'Eephus']\n",
    "data = data[~data['pitch_name'].isin(excluded_values)]\n",
    "\n",
    "# dropping na values for only the pitch_name column\n",
    "data.dropna(subset=['pitch_name'], inplace=True)\n",
    "\n",
    "# making a dataframe with only pfx_x, pfx_z\n",
    "movement_data = data[['pitch_name','pfx_x', 'pfx_z']]\n",
    "\n",
    "# used below code line to check types of pitches and which to remove\n",
    "# print(movement_data['pitch_name'].unique())\n",
    "\n",
    "pitch_types = movement_data['pitch_name'].unique()\n",
    "\n",
    "# mapping colors to pitches \n",
    "# essentially creating a new column\n",
    "movement_data['pitch_color'] = movement_data['pitch_name'].map(pitch_colors) \n",
    "\n",
    "def movement_profile(data):\n",
    "    plt.figure(figsize=(6,6))\n",
    "    plt.scatter(data['pfx_x'], data['pfx_z'], c=data['pitch_color'])\n",
    "\n",
    "\n",
    "movement_profile(movement_data)\n"
   ]
  },
  {
   "cell_type": "code",
   "execution_count": null,
   "metadata": {},
   "outputs": [],
   "source": []
  }
 ],
 "metadata": {
  "kernelspec": {
   "display_name": "Python 3.10.9 64-bit",
   "language": "python",
   "name": "python3"
  },
  "language_info": {
   "codemirror_mode": {
    "name": "ipython",
    "version": 3
   },
   "file_extension": ".py",
   "mimetype": "text/x-python",
   "name": "python",
   "nbconvert_exporter": "python",
   "pygments_lexer": "ipython3",
   "version": "3.10.9"
  },
  "orig_nbformat": 4,
  "vscode": {
   "interpreter": {
    "hash": "b0fa6594d8f4cbf19f97940f81e996739fb7646882a419484c72d19e05852a7e"
   }
  }
 },
 "nbformat": 4,
 "nbformat_minor": 2
}
